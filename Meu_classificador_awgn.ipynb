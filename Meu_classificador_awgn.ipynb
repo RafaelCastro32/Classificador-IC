{
 "cells": [
  {
   "cell_type": "markdown",
   "id": "NtNb42N-2g8n",
   "metadata": {
    "id": "NtNb42N-2g8n"
   },
   "source": [
    "<a href=\"https://colab.research.google.com/github/lasseufpa/ml4comm/blob/main/qam_classifiers.ipynb\" target=\"_parent\"><img src=\"https://colab.research.google.com/assets/colab-badge.svg\" alt=\"Open In Colab\"/></a>"
   ]
  },
  {
   "cell_type": "markdown",
   "id": "M50vyFdE2g8q",
   "metadata": {
    "id": "M50vyFdE2g8q"
   },
   "source": [
    "Globecom Tutorial - December 7, 2021\n",
    "Tutorial 29: Machine Learning for MIMO Systems with Large Arrays\n",
    "Nuria Gonzalez-Prelcic (NCSU),\n",
    "Aldebaro Klautau (UFPA) and\n",
    "Robert W. Heath Jr. (NCSU)"
   ]
  },
  {
   "cell_type": "markdown",
   "id": "aEFKkSUF2g8r",
   "metadata": {
    "id": "aEFKkSUF2g8r"
   },
   "source": [
    "# QAM classifiers"
   ]
  },
  {
   "cell_type": "code",
   "execution_count": 3,
   "id": "fKpctnfi2g8r",
   "metadata": {
    "colab": {
     "base_uri": "https://localhost:8080/"
    },
    "id": "fKpctnfi2g8r",
    "outputId": "0ef2d036-c040-42bc-f1e5-ef2237d79116"
   },
   "outputs": [],
   "source": [
    "# Clone the repository if running in Colab and install all the dependencies\n",
    "if 'google.colab' in str(get_ipython()):\n",
    "    import sys\n",
    "    import os\n",
    "    try:\n",
    "      !git clone https://github.com/lasseufpa/ml4comm.git\n",
    "    except:\n",
    "      print(\"ml4comm is already in the contents\")\n",
    "    !pip install -r /content/ml4comm/requirements.txt  &>/dev/null\n",
    "    sys.path.append(os.path.abspath('/content/ml4comm'))"
   ]
  },
  {
   "cell_type": "code",
   "execution_count": 4,
   "id": "dsoUDDND2g8t",
   "metadata": {
    "colab": {
     "base_uri": "https://localhost:8080/"
    },
    "id": "dsoUDDND2g8t",
    "outputId": "8da00370-4435-4deb-c820-c8f9a2a149f9"
   },
   "outputs": [
    {
     "ename": "ModuleNotFoundError",
     "evalue": "No module named 'commpy'",
     "output_type": "error",
     "traceback": [
      "\u001b[1;31m------------------------------------------------------------\u001b[0m",
      "\u001b[1;31mModuleNotFoundError\u001b[0m        Traceback (most recent call last)",
      "Input \u001b[1;32mIn [4]\u001b[0m, in \u001b[0;36m<cell line: 13>\u001b[1;34m()\u001b[0m\n\u001b[0;32m     11\u001b[0m \u001b[38;5;28;01mfrom\u001b[39;00m \u001b[38;5;21;01msklearn\u001b[39;00m\u001b[38;5;21;01m.\u001b[39;00m\u001b[38;5;21;01msvm\u001b[39;00m \u001b[38;5;28;01mimport\u001b[39;00m LinearSVC\n\u001b[0;32m     12\u001b[0m \u001b[38;5;28;01mfrom\u001b[39;00m \u001b[38;5;21;01msklearn\u001b[39;00m\u001b[38;5;21;01m.\u001b[39;00m\u001b[38;5;21;01mneural_network\u001b[39;00m \u001b[38;5;28;01mimport\u001b[39;00m MLPClassifier\n\u001b[1;32m---> 13\u001b[0m \u001b[38;5;28;01mfrom\u001b[39;00m \u001b[38;5;21;01mcommpy\u001b[39;00m\u001b[38;5;21;01m.\u001b[39;00m\u001b[38;5;21;01mchannels\u001b[39;00m \u001b[38;5;28;01mimport\u001b[39;00m SISOFlatChannel\n\u001b[0;32m     14\u001b[0m \u001b[38;5;28;01mfrom\u001b[39;00m \u001b[38;5;21;01mmatplotlib\u001b[39;00m \u001b[38;5;28;01mimport\u001b[39;00m pyplot\n\u001b[0;32m     15\u001b[0m \u001b[38;5;28;01mfrom\u001b[39;00m \u001b[38;5;21;01msklearn\u001b[39;00m\u001b[38;5;21;01m.\u001b[39;00m\u001b[38;5;21;01mmodel_selection\u001b[39;00m \u001b[38;5;28;01mimport\u001b[39;00m cross_val_score\n",
      "\u001b[1;31mModuleNotFoundError\u001b[0m: No module named 'commpy'"
     ]
    }
   ],
   "source": [
    "import matplotlib\n",
    "import matplotlib.pyplot as plt\n",
    "import matplotlib.cm as cm\n",
    "import seaborn as sns\n",
    "import pandas as pd\n",
    "import numpy as np\n",
    "from sklearn import metrics\n",
    "from sklearn.metrics import confusion_matrix\n",
    "from sklearn.tree import DecisionTreeClassifier\n",
    "from sklearn.neighbors import KNeighborsClassifier\n",
    "from sklearn.svm import LinearSVC\n",
    "from sklearn.neural_network import MLPClassifier\n",
    "from commpy.channels import SISOFlatChannel\n",
    "from matplotlib import pyplot\n",
    "from sklearn.model_selection import cross_val_score\n",
    "from sklearn.metrics import accuracy_score, f1_score, confusion_matrix, roc_curve, roc_auc_score\n",
    "\n",
    "from ml4comm.qam_crazy import crazy_channel_propagate\n",
    "from ml4comm.qam_awgn import generate_symbols\n",
    "from ml4comm.qam_analyzer import plot_decision_boundary, ser, plot_confusion_matrix\n",
    "from ml4comm.classifiers_comparison import train_classifier\n",
    " \n",
    "%load_ext autoreload\n",
    "%autoreload 2\n",
    "%matplotlib inline"
   ]
  },
  {
   "cell_type": "markdown",
   "id": "ClD9sRot2g8t",
   "metadata": {
    "id": "ClD9sRot2g8t"
   },
   "source": [
    "# Classifiers for QAM demodulation"
   ]
  },
  {
   "cell_type": "markdown",
   "id": "43qJNtAv2g8u",
   "metadata": {
    "id": "43qJNtAv2g8u"
   },
   "source": [
    "### Variables"
   ]
  },
  {
   "cell_type": "code",
   "execution_count": null,
   "id": "fdDeWNF72g8u",
   "metadata": {
    "id": "fdDeWNF72g8u"
   },
   "outputs": [],
   "source": [
    "channel_type = 'awgn' # 'awgn' or 'crazy'\n",
    "M            = 16      # QAM modulation\n",
    "num_symbols  = 6000    # Number of transmitted symbols\n",
    "SNR_dB       = 15      # Signal to noise ratio in dB     \n",
    "code_rate    = 1       # Rate of the used code\n",
    "Es           = 1       # Average symbol energy"
   ]
  },
  {
   "cell_type": "markdown",
   "id": "SNmTovyF2g8v",
   "metadata": {
    "id": "SNmTovyF2g8v"
   },
   "source": [
    "### Generate QAM symbols and transmit them over the channel"
   ]
  },
  {
   "cell_type": "code",
   "execution_count": null,
   "id": "fo_9ibi7fGuK",
   "metadata": {
    "id": "fo_9ibi7fGuK"
   },
   "outputs": [],
   "source": []
  },
  {
   "cell_type": "code",
   "execution_count": null,
   "id": "BLVvmz8N2g8w",
   "metadata": {
    "id": "BLVvmz8N2g8w"
   },
   "outputs": [],
   "source": [
    "# Generate the QAM symbols\n",
    "symbs, indices = generate_symbols(num_symbols, M)"
   ]
  },
  {
   "cell_type": "code",
   "execution_count": null,
   "id": "UpLfsT0p2g8w",
   "metadata": {
    "id": "UpLfsT0p2g8w"
   },
   "outputs": [],
   "source": [
    "if channel_type == 'awgn':\n",
    "    channel = SISOFlatChannel(None, (1 + 0j, 0j))\n",
    "    channel.set_SNR_dB(SNR_dB, float(code_rate), Es)\n",
    "    channel_output = channel.propagate(symbs)\n",
    "elif channel_type == 'crazy':\n",
    "    channel_output = crazy_channel_propagate(symbs, SNR_dB) \n",
    "else:\n",
    "    raise ValueError(f'Channel type {channel_type} not found')"
   ]
  },
  {
   "cell_type": "code",
   "execution_count": null,
   "id": "PTcbSdSW2g8x",
   "metadata": {
    "id": "PTcbSdSW2g8x"
   },
   "outputs": [],
   "source": [
    "# Generate dataset\n",
    "# Train\n",
    "train_size = int(0.5*len(indices))\n",
    "y_train = indices[:train_size]\n",
    "X_train = np.stack([np.real(channel_output[:train_size]),\n",
    "                    np.imag(channel_output[:train_size])], axis=1)\n",
    "\n",
    "# Test\n",
    "y_test = indices[train_size:]\n",
    "X_test = np.stack([np.real(channel_output[train_size:]),\n",
    "                   np.imag(channel_output[train_size:])], axis=1)"
   ]
  },
  {
   "cell_type": "code",
   "execution_count": null,
   "id": "eL0Tw4eA2g8x",
   "metadata": {
    "id": "eL0Tw4eA2g8x"
   },
   "outputs": [],
   "source": [
    "def plot_symbols():\n",
    "    custom_cmap = cm.get_cmap('tab20')\n",
    "    num_classes = M\n",
    "    colors = custom_cmap.colors[:num_classes]\n",
    "    levels = np.arange(num_classes + 2) - 0.5\n",
    "\n",
    "    for ii in range(num_classes):\n",
    "        selected_indices = np.argwhere(y_train==ii)\n",
    "        selected_indices = selected_indices.reshape((-1))\n",
    "        plt.plot(X_train[selected_indices, 0], X_train[selected_indices, 1], 'o', color=colors[ii], label=f'{ii}')\n",
    "        \n",
    "    plt.plot(np.real(symbs), np.imag(symbs), 'rx')\n",
    "    plt.legend(title='Classes', bbox_to_anchor=(1, 1), loc='upper left', ncol=2, handleheight=2, labelspacing=0.05, frameon=False)\n",
    "    plt.ylabel('Quadrature')\n",
    "    plt.xlabel('In-phase')\n",
    "\n",
    "    plt.show()  "
   ]
  },
  {
   "cell_type": "code",
   "execution_count": null,
   "id": "_x-Y9jPR2g8x",
   "metadata": {
    "colab": {
     "base_uri": "https://localhost:8080/",
     "height": 282
    },
    "id": "_x-Y9jPR2g8x",
    "outputId": "75c63420-b9d2-4e00-b9cf-a348f5df48a1"
   },
   "outputs": [],
   "source": [
    "plot_symbols()"
   ]
  },
  {
   "cell_type": "markdown",
   "id": "TH-IRqAt2g8y",
   "metadata": {
    "id": "TH-IRqAt2g8y"
   },
   "source": [
    "## Classifiers"
   ]
  },
  {
   "cell_type": "markdown",
   "id": "agn4vMgJ2g83",
   "metadata": {
    "id": "agn4vMgJ2g83"
   },
   "source": [
    "### Naive Bayes"
   ]
  },
  {
   "cell_type": "code",
   "execution_count": null,
   "id": "cO3yOfGa2g83",
   "metadata": {
    "colab": {
     "base_uri": "https://localhost:8080/",
     "height": 650
    },
    "id": "cO3yOfGa2g83",
    "outputId": "a00c089a-2b59-411b-c095-a1127a777eba"
   },
   "outputs": [],
   "source": [
    "clf_NB = train_classifier('Naive Bayes', X_train, y_train, M)\n",
    "plot_decision_boundary(clf_NB, X_train, y_train)\n",
    "plot_confusion_matrix(clf_NB, X_test, y_test, M)\n"
   ]
  },
  {
   "cell_type": "code",
   "execution_count": null,
   "id": "VVw5Vn2S44qJ",
   "metadata": {
    "colab": {
     "base_uri": "https://localhost:8080/"
    },
    "id": "VVw5Vn2S44qJ",
    "outputId": "9a3a4f1c-2717-44ee-e183-4c17a104adea"
   },
   "outputs": [],
   "source": [
    "%%time\n",
    "scores = cross_val_score(clf_NB, X_train, y_train, cv=10)\n",
    "scores"
   ]
  },
  {
   "cell_type": "code",
   "execution_count": null,
   "id": "6aYqVeM_2g84",
   "metadata": {
    "colab": {
     "base_uri": "https://localhost:8080/"
    },
    "id": "6aYqVeM_2g84",
    "outputId": "4adc8fb0-4541-499a-eb39-8809212d81c6"
   },
   "outputs": [],
   "source": [
    "#Predição do treino e teste\n",
    "\n",
    "#Naive Bayes\n",
    "print('Naive Bayes - Acurácia')\n",
    "pred_train = clf_NB.predict(X_train)\n",
    "print('Treino:\\t {:.2%}'.format(metrics.accuracy_score(y_train, pred_train)))\n",
    "pred_test7 = clf_NB.predict(X_test)\n",
    "print('Teste:\\t {:.2%}'.format(metrics.accuracy_score(y_test, pred_test7)))\n",
    "print('--'*12)\n",
    "\n",
    "print('SYMBOL ERROR RATE - SER')\n",
    "\n",
    "#Naive Bayes\n",
    "print('Naive Bayes - SER')\n",
    "ser_test = ser(clf_NB, X_test, y_test)\n",
    "print('SER:{:.2%}'.format(ser_test))\n",
    "print('--'*12)\n",
    "\n"
   ]
  }
 ],
 "metadata": {
  "colab": {
   "collapsed_sections": [
    "43qJNtAv2g8u",
    "SNmTovyF2g8v"
   ],
   "name": "Rafaelcastro.ipynb",
   "provenance": []
  },
  "kernelspec": {
   "display_name": "Python 3 (ipykernel)",
   "language": "python",
   "name": "python3"
  },
  "language_info": {
   "codemirror_mode": {
    "name": "ipython",
    "version": 3
   },
   "file_extension": ".py",
   "mimetype": "text/x-python",
   "name": "python",
   "nbconvert_exporter": "python",
   "pygments_lexer": "ipython3",
   "version": "3.8.10"
  }
 },
 "nbformat": 4,
 "nbformat_minor": 5
}
